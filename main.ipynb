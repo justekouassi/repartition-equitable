{
 "cells": [
  {
   "attachments": {},
   "cell_type": "markdown",
   "metadata": {},
   "source": [
    "# Problème de répartition équitable de bonus"
   ]
  },
  {
   "attachments": {},
   "cell_type": "markdown",
   "metadata": {},
   "source": [
    "## Contexte"
   ]
  },
  {
   "attachments": {},
   "cell_type": "markdown",
   "metadata": {},
   "source": [
    "Un professeur désire calculer les moyennes de ses élèves dans sa matière enseignée. \n",
    "Soit le tableau montrant les moyennes sur 20 de ses élèves : \n",
    "\n",
    "|N°|Noms|Moyennes|\n",
    "|:-:|:-:|:-:|\n",
    "|1|Aya|8|\n",
    "|2|Souley|15|\n",
    "|3|Juste|19|\n",
    "|4|Kouakou|4|\n",
    "|5|David|9|\n",
    "|6|Ange|13|\n",
    "\n",
    "Dans cet établissement, la moyenne de validation d'une matière est égale à 8 sur 20. Malheureusement, Kouakou a obtenu la moyenne de 4, ce qui est insuffisant. Le professeur aimant bien ses élèves, veut tous les faire valider. Alors il décide de faire un bonus de +4 à Kouakou pour le ramener à 8. Mais, les autres élèves sont mécontents, ayant mieux travaillé que Kouakou. La concurrence étant rude dans la classe, ils veulent tous obtenir le même bonus et garder le même écart entre chacun. Cependant, si le professeur applique ce bonus (+4) à Juste, il aura 23. Ce qui est incohérent puisque la moyenne maximale est 20.\n",
    "La problème qui s'impose est donc la répartition équitable des bonus à tous les élèves de sorte à tous leur permettre de valider cette matière tout en respectant les contraintes de validation à savoir une moyenne comprise entre 8 et 20.\n",
    "\n",
    "Ce dilemme peut s'appliquer à toutes les situations dans lesquelles l'on veut répartir équitablement des objets à un groupe d'individus tout en respectant certaines limites d'ajout.\n",
    "\n",
    "Résumé des contraintes :\n",
    "- La moyenne de validation appartient à [8, 20]\n",
    "- Les moyennes de ce problème sont comprises dans [4, 19]\n",
    "- La plage de bonus possibles est donc [1, 4]\n",
    "- La difficulté : faire en sorte que [4, 19] + [1, 4] -> [8, 20]"
   ]
  },
  {
   "attachments": {},
   "cell_type": "markdown",
   "metadata": {},
   "source": [
    "## Statistiques de départ"
   ]
  },
  {
   "attachments": {},
   "cell_type": "markdown",
   "metadata": {},
   "source": [
    "Importation des modules"
   ]
  },
  {
   "cell_type": "code",
   "execution_count": 2,
   "metadata": {},
   "outputs": [],
   "source": [
    "import numpy as np"
   ]
  },
  {
   "attachments": {},
   "cell_type": "markdown",
   "metadata": {},
   "source": [
    "Déclaration des variables"
   ]
  },
  {
   "cell_type": "code",
   "execution_count": 29,
   "metadata": {},
   "outputs": [
    {
     "data": {
      "text/plain": [
       "array([ 4.,  8.,  9., 13., 15., 19.])"
      ]
     },
     "execution_count": 29,
     "metadata": {},
     "output_type": "execute_result"
    }
   ],
   "source": [
    "liste_notes = [8, 15, 19, 4, 9, 13]\n",
    "notes = np.array(np.sort(liste_notes), dtype=float)\n",
    "notes"
   ]
  },
  {
   "cell_type": "code",
   "execution_count": 12,
   "metadata": {},
   "outputs": [],
   "source": [
    "VALIDATION_MIN = 8 # note minimale de validation\n",
    "VALIDATION_MAX = 20 # note maximale de validation\n",
    "note_min = int(notes.min()) # note minimale de la classe\n",
    "note_max = int(notes.max()) # note maximale de la classe\n",
    "bonus_max = VALIDATION_MIN - note_min # bonus maximal possible à ajouter\n",
    "bonus_min = VALIDATION_MAX - note_max if (note_max + bonus_max > VALIDATION_MAX) else bonus_max # bonus maximal possible à ajouter"
   ]
  },
  {
   "attachments": {},
   "cell_type": "markdown",
   "metadata": {},
   "source": [
    "Quelques statistiques sur l'échantillon"
   ]
  },
  {
   "cell_type": "code",
   "execution_count": 5,
   "metadata": {},
   "outputs": [
    {
     "data": {
      "text/plain": [
       "11.333333333333334"
      ]
     },
     "execution_count": 5,
     "metadata": {},
     "output_type": "execute_result"
    }
   ],
   "source": [
    "moyenne_classe = notes.mean() # la moyenne de la classe\n",
    "moyenne_classe"
   ]
  },
  {
   "cell_type": "code",
   "execution_count": 6,
   "metadata": {},
   "outputs": [
    {
     "data": {
      "text/plain": [
       "24.222222222222225"
      ]
     },
     "execution_count": 6,
     "metadata": {},
     "output_type": "execute_result"
    }
   ],
   "source": [
    "variance_classe = notes.var() # la variance de la classe\n",
    "variance_classe"
   ]
  },
  {
   "cell_type": "code",
   "execution_count": 7,
   "metadata": {},
   "outputs": [
    {
     "data": {
      "text/plain": [
       "4.921607686744467"
      ]
     },
     "execution_count": 7,
     "metadata": {},
     "output_type": "execute_result"
    }
   ],
   "source": [
    "ecart_type_classe = notes.std() # l'écart-type de la classe\n",
    "ecart_type_classe"
   ]
  },
  {
   "attachments": {},
   "cell_type": "markdown",
   "metadata": {},
   "source": [
    "## Tentatives de solution"
   ]
  },
  {
   "attachments": {},
   "cell_type": "markdown",
   "metadata": {},
   "source": [
    "### Solution N°1"
   ]
  },
  {
   "cell_type": "code",
   "execution_count": 34,
   "metadata": {},
   "outputs": [
    {
     "data": {
      "text/plain": [
       "array([ 4.,  8.,  9., 13., 15., 19.])"
      ]
     },
     "execution_count": 34,
     "metadata": {},
     "output_type": "execute_result"
    }
   ],
   "source": [
    "liste_temp_1 = notes\n",
    "liste_temp_1"
   ]
  },
  {
   "cell_type": "code",
   "execution_count": 40,
   "metadata": {},
   "outputs": [
    {
     "data": {
      "text/plain": [
       "array([4. , 3.4, 2.8, 2.2, 1.6, 1. ])"
      ]
     },
     "execution_count": 40,
     "metadata": {},
     "output_type": "execute_result"
    }
   ],
   "source": [
    "liste_bonus_1 = np.linspace(bonus_max, bonus_min, notes.size) # liste des bonus à appliquer\n",
    "liste_bonus_1"
   ]
  },
  {
   "attachments": {},
   "cell_type": "markdown",
   "metadata": {},
   "source": [
    "Application des bonus à chaque élève avec la 1ere méthode"
   ]
  },
  {
   "cell_type": "code",
   "execution_count": 41,
   "metadata": {},
   "outputs": [
    {
     "data": {
      "text/plain": [
       "array([ 8. , 11.4, 11.8, 15.2, 16.6, 20. ])"
      ]
     },
     "execution_count": 41,
     "metadata": {},
     "output_type": "execute_result"
    }
   ],
   "source": [
    "resultat = []\n",
    "for index, note in enumerate(liste_temp_1):\n",
    "\tif note in notes:\n",
    "\t\tresultat.append(liste_temp_1[index] + liste_bonus_1[index])\n",
    "notes_1 = np.array(resultat)\n",
    "notes_1"
   ]
  },
  {
   "attachments": {},
   "cell_type": "markdown",
   "metadata": {},
   "source": [
    "Après application des bonus, nous obtenons ainsi le tableau suivant :\n",
    "\n",
    "|N°|Noms|Moyennes initiales|Bonus|Moyennes finales|\n",
    "|:-:|:-:|:-:|:-:|:-:|\n",
    "|1|Juste|19|+1|20|\n",
    "|2|Souley|15|+1.6|16.6|\n",
    "|3|Ange|13|+2.2|15.2|\n",
    "|4|David|9|+2.8|11.8|\n",
    "|5|Aya|8|+3.4|11.4|\n",
    "|6|Kouakou|4|+4|8|\n",
    "||**Moyennes**|**11.33**|**+2.5**|**13.83**|"
   ]
  },
  {
   "attachments": {},
   "cell_type": "markdown",
   "metadata": {},
   "source": [
    "Quelques statistiques de la solution 1"
   ]
  },
  {
   "cell_type": "code",
   "execution_count": 42,
   "metadata": {},
   "outputs": [
    {
     "data": {
      "text/plain": [
       "13.833333333333334"
      ]
     },
     "execution_count": 42,
     "metadata": {},
     "output_type": "execute_result"
    }
   ],
   "source": [
    "moyenne_classe_1 = notes_1.mean() # la moyenne de la classe\n",
    "moyenne_classe_1"
   ]
  },
  {
   "cell_type": "code",
   "execution_count": 43,
   "metadata": {},
   "outputs": [
    {
     "data": {
      "text/plain": [
       "15.272222222222224"
      ]
     },
     "execution_count": 43,
     "metadata": {},
     "output_type": "execute_result"
    }
   ],
   "source": [
    "variance_classe_1 = notes_1.var() # la variance de la classe\n",
    "variance_classe_1"
   ]
  },
  {
   "cell_type": "code",
   "execution_count": 44,
   "metadata": {},
   "outputs": [
    {
     "data": {
      "text/plain": [
       "3.9079690661803124"
      ]
     },
     "execution_count": 44,
     "metadata": {},
     "output_type": "execute_result"
    }
   ],
   "source": [
    "ecart_type_classe_1 = notes_1.std() # l'écart-type de la classe\n",
    "ecart_type_classe_1"
   ]
  },
  {
   "attachments": {},
   "cell_type": "markdown",
   "metadata": {},
   "source": [
    "### Solution N°2"
   ]
  },
  {
   "cell_type": "code",
   "execution_count": 30,
   "metadata": {},
   "outputs": [
    {
     "data": {
      "text/plain": [
       "array([ 4.,  5.,  6.,  7.,  8.,  9., 10., 11., 12., 13., 14., 15., 16.,\n",
       "       17., 18., 19.])"
      ]
     },
     "execution_count": 30,
     "metadata": {},
     "output_type": "execute_result"
    }
   ],
   "source": [
    "liste_temp_2 = np.linspace(note_min, note_max, note_max - note_min + 1)\n",
    "liste_temp_2"
   ]
  },
  {
   "cell_type": "code",
   "execution_count": 31,
   "metadata": {},
   "outputs": [
    {
     "data": {
      "text/plain": [
       "array([4. , 3.8, 3.6, 3.4, 3.2, 3. , 2.8, 2.6, 2.4, 2.2, 2. , 1.8, 1.6,\n",
       "       1.4, 1.2, 1. ])"
      ]
     },
     "execution_count": 31,
     "metadata": {},
     "output_type": "execute_result"
    }
   ],
   "source": [
    "liste_bonus_2 = np.linspace(bonus_max, bonus_min, note_max - note_min + 1)\n",
    "liste_bonus_2"
   ]
  },
  {
   "attachments": {},
   "cell_type": "markdown",
   "metadata": {},
   "source": [
    "Application des bonus à chaque élève avec la 2e méthode"
   ]
  },
  {
   "cell_type": "code",
   "execution_count": 32,
   "metadata": {},
   "outputs": [
    {
     "data": {
      "text/plain": [
       "array([ 8. , 11.2, 12. , 15.2, 16.8, 20. ])"
      ]
     },
     "execution_count": 32,
     "metadata": {},
     "output_type": "execute_result"
    }
   ],
   "source": [
    "resultat = []\n",
    "for index, note in enumerate(liste_temp_2):\n",
    "\tif note in notes:\n",
    "\t\tresultat.append(liste_temp_2[index] + liste_bonus_2[index])\n",
    "notes_2 = np.array(resultat)\n",
    "notes_2"
   ]
  },
  {
   "attachments": {},
   "cell_type": "markdown",
   "metadata": {},
   "source": [
    "Après application des bonus, nous obtenons ainsi le tableau suivant :\n",
    "\n",
    "|N°|Noms|Moyennes initiales|Bonus|Moyennes finales|\n",
    "|:-:|:-:|:-:|:-:|:-:|\n",
    "|1|Juste|19|+1|20|\n",
    "|2|Souley|15|+1.8|16.8|\n",
    "|3|Ange|13|+2.2|15.2|\n",
    "|4|David|9|+3|12|\n",
    "|5|Aya|8|+3.2|11.2|\n",
    "|6|Kouakou|4|+4|8|\n",
    "||**Moyennes**|**11.33**|**+2.53**|**13.86**|"
   ]
  },
  {
   "attachments": {},
   "cell_type": "markdown",
   "metadata": {},
   "source": [
    "Statistiques de la solution N°2"
   ]
  },
  {
   "cell_type": "code",
   "execution_count": 16,
   "metadata": {},
   "outputs": [
    {
     "data": {
      "text/plain": [
       "13.866666666666667"
      ]
     },
     "execution_count": 16,
     "metadata": {},
     "output_type": "execute_result"
    }
   ],
   "source": [
    "moyenne_classe_2 = notes_2.mean() # la moyenne de la classe\n",
    "moyenne_classe_2"
   ]
  },
  {
   "cell_type": "code",
   "execution_count": 17,
   "metadata": {},
   "outputs": [
    {
     "data": {
      "text/plain": [
       "15.502222222222224"
      ]
     },
     "execution_count": 17,
     "metadata": {},
     "output_type": "execute_result"
    }
   ],
   "source": [
    "variance_classe_2 = notes_2.var() # la variance de la classe\n",
    "variance_classe_2"
   ]
  },
  {
   "cell_type": "code",
   "execution_count": 18,
   "metadata": {},
   "outputs": [
    {
     "data": {
      "text/plain": [
       "3.937286149395574"
      ]
     },
     "execution_count": 18,
     "metadata": {},
     "output_type": "execute_result"
    }
   ],
   "source": [
    "ecart_type_classe_2 = notes_2.std() # l'écart-type de la classe\n",
    "ecart_type_classe_2"
   ]
  },
  {
   "attachments": {},
   "cell_type": "markdown",
   "metadata": {},
   "source": [
    "## Interprétation des résultats"
   ]
  },
  {
   "attachments": {},
   "cell_type": "markdown",
   "metadata": {},
   "source": [
    "|Méthodes|Naturelle|Solution 1|Solution 2|\n",
    "|:-:|:-:|:-:|:-:|\n",
    "|Note minimale|4|8|8|\n",
    "|Note maximale|19|20|20|\n",
    "|Moyenne|11,33|13,83|13,86|\n",
    "|Variance|24.22|15.27|15.5|\n",
    "|Ecart-type|4.92|3.91|3.94|\n",
    "\n",
    "1. La seconde méthode améliore mieux la moyenne des élèves que la première.\n",
    "2. La première méthode réduit les variances dans l'ensemble. Ce qui est plus avantagieux pour les derniers mais désavantagieux pour les premiers."
   ]
  }
 ],
 "metadata": {
  "kernelspec": {
   "display_name": "Python 3",
   "language": "python",
   "name": "python3"
  },
  "language_info": {
   "codemirror_mode": {
    "name": "ipython",
    "version": 3
   },
   "file_extension": ".py",
   "mimetype": "text/x-python",
   "name": "python",
   "nbconvert_exporter": "python",
   "pygments_lexer": "ipython3",
   "version": "3.11.1"
  },
  "orig_nbformat": 4,
  "vscode": {
   "interpreter": {
    "hash": "984f0d32ec04950e2fefa43e7d38885b8e5f7ace114fa5bde7896afdbe1d6c9f"
   }
  }
 },
 "nbformat": 4,
 "nbformat_minor": 2
}
