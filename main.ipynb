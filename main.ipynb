{
 "cells": [
  {
   "attachments": {},
   "cell_type": "markdown",
   "metadata": {},
   "source": [
    "# Problème de répartition équitable de bonus"
   ]
  },
  {
   "attachments": {},
   "cell_type": "markdown",
   "metadata": {},
   "source": [
    "## Contexte"
   ]
  },
  {
   "attachments": {},
   "cell_type": "markdown",
   "metadata": {},
   "source": [
    "Dans le cadre de l'évaluation des performances de ses élèves, un enseignant souhaite ajuster les moyennes afin de garantir que tous les élèves valident la matière enseignée. Le tableau ci-dessous présente les moyennes actuelles des élèves, notées sur 20 :\n",
    "\n",
    "|N°|Noms|Moyennes|\n",
    "|:-:|:-:|:-:|\n",
    "|1|Aya|8|\n",
    "|2|Souley|15|\n",
    "|3|Juste|19|\n",
    "|4|Kouakou|4|\n",
    "|5|David|9|\n",
    "|6|Ange|13|\n",
    "\n",
    "Dans cet établissement, la moyenne minimale requise pour valider une matière est fixée à 8 sur 20. Or, Kouakou, ayant obtenu une moyenne de 4, n’atteint pas ce seuil. Soucieux de la réussite de tous ses élèves, l'enseignant envisage d'ajouter un bonus de +4 à la moyenne de Kouakou pour le ramener à 8, le seuil de validation.\n",
    "\n",
    "Cependant, cette décision suscite des mécontentements parmi les autres élèves, qui estiment mériter un ajustement similaire pour maintenir l'équité des résultats. Ces élèves souhaitent ainsi recevoir un bonus proportionnel tout en conservant les écarts existants entre leurs moyennes. Néanmoins, l'application d'un bonus de +4 à la moyenne de Juste, qui est actuellement de 19, entraînerait une moyenne de 23, ce qui excède le maximum autorisé de 20, rendant la situation incohérente.\n",
    "\n",
    "Le défi consiste donc à redistribuer les bonus de manière équitable, en permettant à chaque élève de valider la matière tout en respectant les contraintes suivantes :\n",
    "- La moyenne de validation doit être comprise entre 8 et 20.\n",
    "- Les moyennes actuelles des élèves varient entre 4 et 19.\n",
    "- La plage de bonus applicables est donc comprise entre +1 et +4.\n",
    "- La difficulté : faire en sorte que [4, 19] + [1, 4] -> [8, 20]\n",
    "\n",
    "Cette situation illustre un problème plus général de répartition équitable de ressources dans un groupe tout en respectant des limites prédéfinies."
   ]
  },
  {
   "attachments": {},
   "cell_type": "markdown",
   "metadata": {},
   "source": [
    "## Statistiques de départ"
   ]
  },
  {
   "attachments": {},
   "cell_type": "markdown",
   "metadata": {},
   "source": [
    "Importation des modules"
   ]
  },
  {
   "cell_type": "code",
   "execution_count": 2,
   "metadata": {},
   "outputs": [],
   "source": [
    "import numpy as np"
   ]
  },
  {
   "attachments": {},
   "cell_type": "markdown",
   "metadata": {},
   "source": [
    "Déclaration des variables"
   ]
  },
  {
   "cell_type": "code",
   "execution_count": 3,
   "metadata": {},
   "outputs": [],
   "source": [
    "liste_notes = [8, 15, 19, 4, 9, 13]\n",
    "notes = np.array(np.sort(liste_notes), dtype=float)\n",
    "\n",
    "VALIDATION_MIN = 8 # note minimale de validation\n",
    "VALIDATION_MAX = 20 # note maximale de validation\n",
    "note_min = int(notes.min()) # note minimale de la classe\n",
    "note_max = int(notes.max()) # note maximale de la classe\n",
    "bonus_max = VALIDATION_MIN - note_min # bonus maximal possible à ajouter\n",
    "bonus_min = min(bonus_max, VALIDATION_MAX - note_max) # bonus maximal possible à ajouter"
   ]
  },
  {
   "attachments": {},
   "cell_type": "markdown",
   "metadata": {},
   "source": [
    "Quelques statistiques sur les notes des élèves"
   ]
  },
  {
   "cell_type": "code",
   "execution_count": 4,
   "metadata": {},
   "outputs": [
    {
     "data": {
      "text/plain": [
       "11.333333333333334"
      ]
     },
     "execution_count": 4,
     "metadata": {},
     "output_type": "execute_result"
    }
   ],
   "source": [
    "notes.mean() # la moyenne de la classe"
   ]
  },
  {
   "cell_type": "code",
   "execution_count": 5,
   "metadata": {},
   "outputs": [
    {
     "data": {
      "text/plain": [
       "24.222222222222218"
      ]
     },
     "execution_count": 5,
     "metadata": {},
     "output_type": "execute_result"
    }
   ],
   "source": [
    "notes.var() # la variance de la classe"
   ]
  },
  {
   "cell_type": "code",
   "execution_count": 6,
   "metadata": {},
   "outputs": [
    {
     "data": {
      "text/plain": [
       "4.9216076867444665"
      ]
     },
     "execution_count": 6,
     "metadata": {},
     "output_type": "execute_result"
    }
   ],
   "source": [
    "notes.std() # l'écart-type de la classe"
   ]
  },
  {
   "attachments": {},
   "cell_type": "markdown",
   "metadata": {},
   "source": [
    "## Tentatives de solution"
   ]
  },
  {
   "attachments": {},
   "cell_type": "markdown",
   "metadata": {},
   "source": [
    "### Solution N°1"
   ]
  },
  {
   "cell_type": "code",
   "execution_count": 7,
   "metadata": {},
   "outputs": [
    {
     "data": {
      "text/plain": [
       "array([4. , 3.4, 2.8, 2.2, 1.6, 1. ])"
      ]
     },
     "execution_count": 7,
     "metadata": {},
     "output_type": "execute_result"
    }
   ],
   "source": [
    "liste_bonus_1 = np.linspace(bonus_max, bonus_min, notes.size) # liste des bonus à appliquer\n",
    "liste_bonus_1"
   ]
  },
  {
   "cell_type": "code",
   "execution_count": 10,
   "metadata": {},
   "outputs": [
    {
     "data": {
      "text/plain": [
       "array([ 8. , 11.4, 11.8, 15.2, 16.6, 20. ])"
      ]
     },
     "execution_count": 10,
     "metadata": {},
     "output_type": "execute_result"
    }
   ],
   "source": [
    "resultat = [note + bonus for note, bonus in zip(notes, liste_bonus_1) if note in notes]\n",
    "notes_1 = np.array(resultat)\n",
    "notes_1"
   ]
  },
  {
   "attachments": {},
   "cell_type": "markdown",
   "metadata": {},
   "source": [
    "Après application des bonus, nous obtenons ainsi le tableau suivant :\n",
    "\n",
    "|N°|Noms|Notes initiales|Bonus|Notes finales|\n",
    "|:-:|:-:|:-:|:-:|:-:|\n",
    "|1|Juste|19|+1|20|\n",
    "|2|Souley|15|+1.6|16.6|\n",
    "|3|Ange|13|+2.2|15.2|\n",
    "|4|David|9|+2.8|11.8|\n",
    "|5|Aya|8|+3.4|11.4|\n",
    "|6|Kouakou|4|+4|8|\n",
    "||**Moyennes**|**11.33**|**+2.5**|**13.83**|"
   ]
  },
  {
   "attachments": {},
   "cell_type": "markdown",
   "metadata": {},
   "source": [
    "Quelques statistiques de la solution 1"
   ]
  },
  {
   "cell_type": "code",
   "execution_count": 11,
   "metadata": {},
   "outputs": [
    {
     "data": {
      "text/plain": [
       "13.833333333333334"
      ]
     },
     "execution_count": 11,
     "metadata": {},
     "output_type": "execute_result"
    }
   ],
   "source": [
    "notes_1.mean() # la moyenne de la classe"
   ]
  },
  {
   "cell_type": "code",
   "execution_count": 12,
   "metadata": {},
   "outputs": [
    {
     "data": {
      "text/plain": [
       "15.272222222222224"
      ]
     },
     "execution_count": 12,
     "metadata": {},
     "output_type": "execute_result"
    }
   ],
   "source": [
    "notes_1.var() # la variance de la classe"
   ]
  },
  {
   "cell_type": "code",
   "execution_count": 13,
   "metadata": {},
   "outputs": [
    {
     "data": {
      "text/plain": [
       "3.9079690661803124"
      ]
     },
     "execution_count": 13,
     "metadata": {},
     "output_type": "execute_result"
    }
   ],
   "source": [
    "notes_1.std() # l'écart-type de la classe"
   ]
  },
  {
   "attachments": {},
   "cell_type": "markdown",
   "metadata": {},
   "source": [
    "### Solution N°2"
   ]
  },
  {
   "cell_type": "code",
   "execution_count": 19,
   "metadata": {},
   "outputs": [
    {
     "data": {
      "text/plain": [
       "array([ 4.,  5.,  6.,  7.,  8.,  9., 10., 11., 12., 13., 14., 15., 16.,\n",
       "       17., 18., 19.])"
      ]
     },
     "execution_count": 19,
     "metadata": {},
     "output_type": "execute_result"
    }
   ],
   "source": [
    "liste_temp_2 = np.linspace(note_min, note_max, note_max - note_min + 1)\n",
    "liste_temp_2"
   ]
  },
  {
   "cell_type": "code",
   "execution_count": 20,
   "metadata": {},
   "outputs": [
    {
     "data": {
      "text/plain": [
       "array([4. , 3.8, 3.6, 3.4, 3.2, 3. , 2.8, 2.6, 2.4, 2.2, 2. , 1.8, 1.6,\n",
       "       1.4, 1.2, 1. ])"
      ]
     },
     "execution_count": 20,
     "metadata": {},
     "output_type": "execute_result"
    }
   ],
   "source": [
    "liste_bonus_2 = np.linspace(bonus_max, bonus_min, note_max - note_min + 1)\n",
    "liste_bonus_2"
   ]
  },
  {
   "cell_type": "code",
   "execution_count": 21,
   "metadata": {},
   "outputs": [
    {
     "data": {
      "text/plain": [
       "array([ 8. , 11.2, 12. , 15.2, 16.8, 20. ])"
      ]
     },
     "execution_count": 21,
     "metadata": {},
     "output_type": "execute_result"
    }
   ],
   "source": [
    "resultat = [note + bonus for note, bonus in zip(liste_temp_2, liste_bonus_2) if note in notes]\n",
    "notes_2 = np.array(resultat)\n",
    "notes_2"
   ]
  },
  {
   "attachments": {},
   "cell_type": "markdown",
   "metadata": {},
   "source": [
    "Après application des bonus, nous obtenons ainsi le tableau suivant :\n",
    "\n",
    "|N°|Noms|Moyennes initiales|Bonus|Moyennes finales|\n",
    "|:-:|:-:|:-:|:-:|:-:|\n",
    "|1|Juste|19|+1|20|\n",
    "|2|Souley|15|+1.8|16.8|\n",
    "|3|Ange|13|+2.2|15.2|\n",
    "|4|David|9|+3|12|\n",
    "|5|Aya|8|+3.2|11.2|\n",
    "|6|Kouakou|4|+4|8|\n",
    "||**Moyennes**|**11.33**|**+2.53**|**13.87**|"
   ]
  },
  {
   "attachments": {},
   "cell_type": "markdown",
   "metadata": {},
   "source": [
    "Statistiques de la solution N°2"
   ]
  },
  {
   "cell_type": "code",
   "execution_count": 22,
   "metadata": {},
   "outputs": [
    {
     "data": {
      "text/plain": [
       "13.866666666666667"
      ]
     },
     "execution_count": 22,
     "metadata": {},
     "output_type": "execute_result"
    }
   ],
   "source": [
    "notes_2.mean() # la moyenne de la classe"
   ]
  },
  {
   "cell_type": "code",
   "execution_count": 23,
   "metadata": {},
   "outputs": [
    {
     "data": {
      "text/plain": [
       "15.502222222222224"
      ]
     },
     "execution_count": 23,
     "metadata": {},
     "output_type": "execute_result"
    }
   ],
   "source": [
    "notes_2.var() # la variance de la classe"
   ]
  },
  {
   "cell_type": "code",
   "execution_count": 24,
   "metadata": {},
   "outputs": [
    {
     "data": {
      "text/plain": [
       "3.937286149395574"
      ]
     },
     "execution_count": 24,
     "metadata": {},
     "output_type": "execute_result"
    }
   ],
   "source": [
    "notes_2.std() # l'écart-type de la classe"
   ]
  },
  {
   "attachments": {},
   "cell_type": "markdown",
   "metadata": {},
   "source": [
    "## Interprétation des résultats"
   ]
  },
  {
   "attachments": {},
   "cell_type": "markdown",
   "metadata": {},
   "source": [
    "|Méthodes|Naturelle|Solution 1|Solution 2|\n",
    "|:-:|:-:|:-:|:-:|\n",
    "|Note minimale|4|8|8|\n",
    "|Note maximale|19|20|20|\n",
    "|Moyenne|11,33|13,83|13,86|\n",
    "|Variance|24.22|15.27|15.5|\n",
    "|Ecart-type|4.92|3.91|3.94|\n",
    "\n",
    "1. La seconde méthode améliore mieux la moyenne des élèves que la première.\n",
    "2. La première méthode réduit les variances dans l'ensemble. Ce qui est plus avantagieux pour les derniers mais désavantagieux pour les premiers."
   ]
  }
 ],
 "metadata": {
  "kernelspec": {
   "display_name": "Python 3",
   "language": "python",
   "name": "python3"
  },
  "language_info": {
   "codemirror_mode": {
    "name": "ipython",
    "version": 3
   },
   "file_extension": ".py",
   "mimetype": "text/x-python",
   "name": "python",
   "nbconvert_exporter": "python",
   "pygments_lexer": "ipython3",
   "version": "3.12.4"
  },
  "orig_nbformat": 4,
  "vscode": {
   "interpreter": {
    "hash": "984f0d32ec04950e2fefa43e7d38885b8e5f7ace114fa5bde7896afdbe1d6c9f"
   }
  }
 },
 "nbformat": 4,
 "nbformat_minor": 2
}
